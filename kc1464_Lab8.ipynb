{
  "cells": [
    {
      "cell_type": "markdown",
      "metadata": {
        "id": "Pxp2hNP47JNA"
      },
      "source": [
        "# Diamond Company Analytics Challenge\n",
        "\n",
        "**Time:** 35 minutes\n",
        "\n",
        "**Scenario:** You are the new data analyst at a prestigious diamond company. The CEO has called an urgent meeting and needs answers to critical business questions about the inventory.\n",
        "\n",
        "**Your Mission:** Analyze the diamond inventory data and provide insights to guide strategic decisions."
      ]
    },
    {
      "cell_type": "code",
      "execution_count": 1,
      "metadata": {
        "id": "8FBB0H_i7JNB",
        "colab": {
          "base_uri": "https://localhost:8080/"
        },
        "outputId": "0cfe9e91-55a1-4ad2-8568-9c8a18ba5c35"
      },
      "outputs": [
        {
          "output_type": "stream",
          "name": "stdout",
          "text": [
            "Loading diamonds dataset...\n",
            "Dataset loaded successfully!\n"
          ]
        }
      ],
      "source": [
        "import polars as pl\n",
        "\n",
        "# Load the diamonds dataset\n",
        "print(\"Loading diamonds dataset...\")\n",
        "df = pl.read_csv('https://raw.githubusercontent.com/pycaret/pycaret/master/datasets/diamond.csv')\n",
        "print(\"Dataset loaded successfully!\")"
      ]
    },
    {
      "cell_type": "markdown",
      "metadata": {
        "id": "K8Rm6InA7JNC"
      },
      "source": [
        "## Section 1: Initial Inventory Assessment (5 minutes)\n",
        "\n",
        "The CEO walks in: \"Before we dive into specifics, I need to understand what we're working with. Give me the basics about our inventory database.\""
      ]
    },
    {
      "cell_type": "markdown",
      "metadata": {
        "id": "GPMVCBe_7JNC"
      },
      "source": [
        "### Question 1: \"How extensive is our inventory database?\"\n",
        "\n",
        "The CEO needs to know the scale of data you're analyzing."
      ]
    },
    {
      "cell_type": "code",
      "execution_count": 2,
      "metadata": {
        "id": "91GaMSsX7JNC",
        "colab": {
          "base_uri": "https://localhost:8080/"
        },
        "outputId": "3852a5b8-b5db-4852-9269-fed13ec67081"
      },
      "outputs": [
        {
          "output_type": "stream",
          "name": "stdout",
          "text": [
            "Inventory size: 6,000 rows × 8 columns\n"
          ]
        }
      ],
      "source": [
        "# Your code here:\n",
        "\n",
        "n_rows, n_cols = df.shape\n",
        "print(f\"Inventory size: {n_rows:,} rows × {n_cols} columns\")"
      ]
    },
    {
      "cell_type": "markdown",
      "metadata": {
        "id": "3c2RfKBD7JNC"
      },
      "source": [
        "### Question 2: \"What information do we track about each diamond?\"\n",
        "\n",
        "List all the characteristics we record."
      ]
    },
    {
      "cell_type": "code",
      "execution_count": 3,
      "metadata": {
        "id": "lDwb4-ws7JNC",
        "colab": {
          "base_uri": "https://localhost:8080/"
        },
        "outputId": "3e6f99d6-576c-4b7f-a156-39b3e9038aa1"
      },
      "outputs": [
        {
          "output_type": "stream",
          "name": "stdout",
          "text": [
            "We track the following characteristics about each diamond:\n",
            "- Carat Weight\n",
            "- Cut\n",
            "- Color\n",
            "- Clarity\n",
            "- Polish\n",
            "- Symmetry\n",
            "- Report\n",
            "- Price\n"
          ]
        }
      ],
      "source": [
        "# Your code here:\n",
        "\n",
        "print(\"We track the following characteristics about each diamond:\")\n",
        "for col in df.columns:\n",
        "    print(f\"- {col}\")"
      ]
    },
    {
      "cell_type": "markdown",
      "metadata": {
        "id": "3pK43MHK7JNC"
      },
      "source": [
        "### Question 3: \"When I look at one line in this database, what am I looking at?\"\n",
        "\n",
        "Explain in business terms:"
      ]
    },
    {
      "cell_type": "markdown",
      "metadata": {
        "id": "xeSM1b4P7JNC"
      },
      "source": [
        "**Your answer:** Each row represents: Each row shows one diamond from our inventory, along with all its details like size, quality, and price."
      ]
    },
    {
      "cell_type": "markdown",
      "metadata": {
        "id": "wFXIaYlY7JNC"
      },
      "source": [
        "## Section 2: Strategic Business Questions (20 minutes)\n",
        "\n",
        "The CEO continues: \"Now let's get to the important questions. Our board meeting is tomorrow and I need concrete numbers.\""
      ]
    },
    {
      "cell_type": "markdown",
      "metadata": {
        "id": "X2utuHV57JNC"
      },
      "source": [
        "### Question 4: \"We're considering expanding our storage facilities. How many total carats do we have in inventory? I need to know if our vaults can handle the weight.\"\n",
        "\n",
        "Think about what measurement would help answer this."
      ]
    },
    {
      "cell_type": "code",
      "execution_count": 4,
      "metadata": {
        "id": "5Wlk3liR7JND",
        "colab": {
          "base_uri": "https://localhost:8080/"
        },
        "outputId": "36c021fa-d806-4860-fea6-adf298aed3e1"
      },
      "outputs": [
        {
          "output_type": "stream",
          "name": "stdout",
          "text": [
            "Total carats in inventory: 8,007.12\n"
          ]
        }
      ],
      "source": [
        "# Your code here:\n",
        "\n",
        "total_carats = df[\"Carat Weight\"].sum()\n",
        "print(f\"Total carats in inventory: {total_carats:,.2f}\")"
      ]
    },
    {
      "cell_type": "markdown",
      "metadata": {
        "id": "2n4aI2_n7JND"
      },
      "source": [
        "### Question 5: \"Our new marketing campaign claims we have 'the widest variety of cuts in the industry.' Can you verify this?\"\n",
        "\n",
        "The CEO wants to know about variety, not quantity."
      ]
    },
    {
      "cell_type": "code",
      "execution_count": 5,
      "metadata": {
        "id": "84v00P-I7JND",
        "colab": {
          "base_uri": "https://localhost:8080/"
        },
        "outputId": "0cc82cb1-df75-4aa3-d3f3-7fb0e4dfca6d"
      },
      "outputs": [
        {
          "output_type": "stream",
          "name": "stdout",
          "text": [
            "Number of unique cuts in inventory: 5\n"
          ]
        }
      ],
      "source": [
        "# Your code here:\n",
        "\n",
        "unique_cuts = df[\"Cut\"].n_unique()\n",
        "print(f\"Number of unique cuts in inventory: {unique_cuts}\")"
      ]
    },
    {
      "cell_type": "markdown",
      "metadata": {
        "id": "I-XTVSvk7JND"
      },
      "source": [
        "### Question 6: \"I'm meeting with our insurance company. They need to know our price exposure - what's our most and least valuable diamond?\""
      ]
    },
    {
      "cell_type": "code",
      "execution_count": 6,
      "metadata": {
        "id": "86xWltdH7JND",
        "colab": {
          "base_uri": "https://localhost:8080/"
        },
        "outputId": "08c5b0d8-cff4-495c-e220-7aa0dee79f63"
      },
      "outputs": [
        {
          "output_type": "stream",
          "name": "stdout",
          "text": [
            "Our most valuable diamond: $101,561.00\n",
            "Our least valuable diamond: $2,184.00\n"
          ]
        }
      ],
      "source": [
        "# Your code here:\n",
        "\n",
        "max_price = df.select(pl.col(\"Price\").max()).item()\n",
        "min_price = df.select(pl.col(\"Price\").min()).item()\n",
        "\n",
        "print(f\"Our most valuable diamond: ${max_price:,.2f}\")\n",
        "print(f\"Our least valuable diamond: ${min_price:,.2f}\")"
      ]
    },
    {
      "cell_type": "markdown",
      "metadata": {
        "id": "QnuJ5t4u7JND"
      },
      "source": [
        "### Question 7: \"Which color grades should we focus on in our premium line? I need typical prices across our color spectrum.\"\n",
        "\n",
        "The CEO wants to understand pricing patterns."
      ]
    },
    {
      "cell_type": "code",
      "execution_count": 7,
      "metadata": {
        "id": "yvv7Ja1o7JND",
        "colab": {
          "base_uri": "https://localhost:8080/"
        },
        "outputId": "acd19bd9-bc44-4a08-bb58-0afb751073a2"
      },
      "outputs": [
        {
          "output_type": "stream",
          "name": "stdout",
          "text": [
            "shape: (6, 2)\n",
            "┌───────┬───────────────┐\n",
            "│ Color ┆ Average Price │\n",
            "│ ---   ┆ ---           │\n",
            "│ str   ┆ f64           │\n",
            "╞═══════╪═══════════════╡\n",
            "│ D     ┆ 15255.783661  │\n",
            "│ F     ┆ 12712.241856  │\n",
            "│ G     ┆ 12520.050633  │\n",
            "│ E     ┆ 11539.190231  │\n",
            "│ H     ┆ 10487.347544  │\n",
            "│ I     ┆ 8989.636364   │\n",
            "└───────┴───────────────┘\n"
          ]
        }
      ],
      "source": [
        "# Your code here:\n",
        "\n",
        "avg_price_by_color = df.group_by('Color').agg(\n",
        "    pl.col('Price').mean().alias(\"Average Price\")\n",
        ").sort(\"Average Price\", descending=True)\n",
        "\n",
        "print(avg_price_by_color)"
      ]
    },
    {
      "cell_type": "markdown",
      "metadata": {
        "id": "8qT0XtHx7JND"
      },
      "source": [
        "**Reflection:** After analyzing by color, how has your view of the data changed? What does each row in your result represent now?"
      ]
    },
    {
      "cell_type": "markdown",
      "metadata": {
        "id": "LU8RPjjW7JND"
      },
      "source": [
        "**Your answer:** New grain = Each row now shows a color grade of diamond in our inventory, along with its average price."
      ]
    },
    {
      "cell_type": "markdown",
      "metadata": {
        "id": "wk5uDuYV7JND"
      },
      "source": [
        "## Section 3: Advanced Strategic Analysis (10 minutes)\n",
        "\n",
        "The CEO leans forward: \"These next questions will shape our strategy for next year.\""
      ]
    },
    {
      "cell_type": "markdown",
      "metadata": {
        "id": "RqMB6enU7JND"
      },
      "source": [
        "### Question 8: \"We're thinking of specializing in certain clarity grades. For our investor deck, I need a complete breakdown showing: how many diamonds we have in each clarity grade, their typical price, and the total carats we're holding for each grade.\""
      ]
    },
    {
      "cell_type": "code",
      "execution_count": 8,
      "metadata": {
        "id": "JhGJZSpx7JND",
        "colab": {
          "base_uri": "https://localhost:8080/"
        },
        "outputId": "38cb10b3-8a0d-4e09-b643-44cfb2a0e3ab"
      },
      "outputs": [
        {
          "output_type": "stream",
          "name": "stdout",
          "text": [
            "shape: (7, 4)\n",
            "┌─────────┬───────────────┬───────────────┬──────────────┐\n",
            "│ Clarity ┆ Diamond Count ┆ Average Price ┆ Total Carats │\n",
            "│ ---     ┆ ---           ┆ ---           ┆ ---          │\n",
            "│ str     ┆ u32           ┆ f64           ┆ f64          │\n",
            "╞═════════╪═══════════════╪═══════════════╪══════════════╡\n",
            "│ FL      ┆ 4             ┆ 63776.0       ┆ 7.87         │\n",
            "│ IF      ┆ 219           ┆ 22105.844749  ┆ 316.0        │\n",
            "│ VVS1    ┆ 285           ┆ 16845.680702  ┆ 389.43       │\n",
            "│ VVS2    ┆ 666           ┆ 14142.177177  ┆ 876.58       │\n",
            "│ VS1     ┆ 1192          ┆ 13694.113255  ┆ 1682.74      │\n",
            "│ VS2     ┆ 1575          ┆ 11809.053333  ┆ 2170.81      │\n",
            "│ SI1     ┆ 2059          ┆ 8018.864012   ┆ 2563.69      │\n",
            "└─────────┴───────────────┴───────────────┴──────────────┘\n"
          ]
        },
        {
          "output_type": "stream",
          "name": "stderr",
          "text": [
            "/tmp/ipython-input-1033392600.py:4: DeprecationWarning: `pl.count()` is deprecated. Please use `pl.len()` instead.\n",
            "  pl.count().alias(\"Diamond Count\"),\n"
          ]
        }
      ],
      "source": [
        "# Your code here:\n",
        "\n",
        "complete_breakdown = df.group_by('Clarity').agg([\n",
        "    pl.count().alias(\"Diamond Count\"),\n",
        "    pl.col(\"Price\").mean().alias(\"Average Price\"),\n",
        "    pl.col(\"Carat Weight\").sum().alias(\"Total Carats\")\n",
        "]).sort(\"Average Price\", descending=True)\n",
        "\n",
        "print(complete_breakdown)"
      ]
    },
    {
      "cell_type": "markdown",
      "metadata": {
        "id": "ShfthGpa7JNE"
      },
      "source": [
        "### Question 9: \"My luxury competitor claims they have the best prices for every cut-color combination. Show me our pricing structure across these combinations - I want to see where we're competitive.\""
      ]
    },
    {
      "cell_type": "code",
      "execution_count": 12,
      "metadata": {
        "id": "EjVoj-pz7JNE",
        "colab": {
          "base_uri": "https://localhost:8080/"
        },
        "outputId": "3779d11d-99cc-45a7-b59b-41b390b2a246"
      },
      "outputs": [
        {
          "output_type": "stream",
          "name": "stdout",
          "text": [
            "shape: (30, 3)\n",
            "┌───────────┬───────┬───────────────┐\n",
            "│ Cut       ┆ Color ┆ Average_Price │\n",
            "│ ---       ┆ ---   ┆ ---           │\n",
            "│ str       ┆ str   ┆ f64           │\n",
            "╞═══════════╪═══════╪═══════════════╡\n",
            "│ Fair      ┆ G     ┆ 7345.52381    │\n",
            "│ Fair      ┆ F     ┆ 6063.625      │\n",
            "│ Fair      ┆ D     ┆ 6058.25       │\n",
            "│ Fair      ┆ H     ┆ 5908.5        │\n",
            "│ Fair      ┆ E     ┆ 5370.625      │\n",
            "│ …         ┆ …     ┆ …             │\n",
            "│ Very Good ┆ F     ┆ 12413.905495  │\n",
            "│ Very Good ┆ G     ┆ 12354.013841  │\n",
            "│ Very Good ┆ E     ┆ 12101.910217  │\n",
            "│ Very Good ┆ H     ┆ 10056.106132  │\n",
            "│ Very Good ┆ I     ┆ 8930.031332   │\n",
            "└───────────┴───────┴───────────────┘\n"
          ]
        }
      ],
      "source": [
        "# Your code here:\n",
        "\n",
        "pricing_structure = df.group_by([\"Cut\", \"Color\"]).agg(\n",
        "    pl.col(\"Price\").mean().alias(\"Average_Price\")\n",
        ").sort([\"Cut\", \"Average_Price\"], descending=[False, True])\n",
        "\n",
        "print(pricing_structure)"
      ]
    },
    {
      "cell_type": "markdown",
      "metadata": {
        "id": "gl1oIpXM7JNE"
      },
      "source": [
        "**Reflection:** How specific is your analysis now? What level of detail does each row represent?"
      ]
    },
    {
      "cell_type": "markdown",
      "metadata": {
        "id": "I5ePdVpx7JNE"
      },
      "source": [
        "**Your answer:** New grain = Each row now represents a unique cut–color combination, showing the average Price for that specific pair."
      ]
    },
    {
      "cell_type": "markdown",
      "metadata": {
        "id": "eieMxp657JNE"
      },
      "source": [
        "### Question 10: URGENT - \"Our biggest client is interested in purchasing entire inventory segments. They asked: 'Which color-cut combinations represent your highest total inventory value?' Show me the top 5 most valuable inventory segments by total worth, and include how many diamonds are in each segment.\"\n",
        "\n",
        "This is critical for tomorrow's negotiation."
      ]
    },
    {
      "cell_type": "code",
      "execution_count": 13,
      "metadata": {
        "id": "IziLmcbv7JNE",
        "colab": {
          "base_uri": "https://localhost:8080/"
        },
        "outputId": "0b7f36a5-06ab-49ab-f4d9-bd5c57086092"
      },
      "outputs": [
        {
          "output_type": "stream",
          "name": "stdout",
          "text": [
            "shape: (5, 4)\n",
            "┌───────┬───────────┬───────────────┬─────────────┐\n",
            "│ Color ┆ Cut       ┆ Diamond Count ┆ Total Value │\n",
            "│ ---   ┆ ---       ┆ ---           ┆ ---         │\n",
            "│ str   ┆ str       ┆ u32           ┆ i64         │\n",
            "╞═══════╪═══════════╪═══════════════╪═════════════╡\n",
            "│ G     ┆ Ideal     ┆ 690           ┆ 9363514     │\n",
            "│ G     ┆ Very Good ┆ 578           ┆ 7140620     │\n",
            "│ F     ┆ Very Good ┆ 455           ┆ 5648327     │\n",
            "│ F     ┆ Ideal     ┆ 363           ┆ 5346782     │\n",
            "│ H     ┆ Ideal     ┆ 458           ┆ 5279687     │\n",
            "└───────┴───────────┴───────────────┴─────────────┘\n"
          ]
        },
        {
          "output_type": "stream",
          "name": "stderr",
          "text": [
            "/tmp/ipython-input-4012983246.py:4: DeprecationWarning: `pl.count()` is deprecated. Please use `pl.len()` instead.\n",
            "  pl.count().alias(\"Diamond Count\"),\n"
          ]
        }
      ],
      "source": [
        "# Your code here:\n",
        "\n",
        "top_5_segments = (df.group_by([\"Color\", \"Cut\"]).agg([\n",
        "    pl.count().alias(\"Diamond Count\"),\n",
        "    (pl.col(\"Price\").sum()).alias(\"Total Value\")\n",
        "    ])\n",
        "    .sort(\"Total Value\", descending=True)\n",
        "    .head(5)\n",
        ")\n",
        "\n",
        "print(top_5_segments)"
      ]
    },
    {
      "cell_type": "markdown",
      "metadata": {
        "id": "RIBKbKiz7JNE"
      },
      "source": [
        "## Debrief\n",
        "\n",
        "Congratulations! You've just completed your first day as the diamond company's data analyst.\n",
        "\n",
        "Remember:\n",
        "- CEOs speak in business language, not technical terms\n",
        "- Always understand what each row represents before analyzing\n",
        "- Business questions contain clues about which operations to use"
      ]
    }
  ],
  "metadata": {
    "kernelspec": {
      "display_name": "Python 3",
      "language": "python",
      "name": "python3"
    },
    "language_info": {
      "codemirror_mode": {
        "name": "ipython",
        "version": 3
      },
      "file_extension": ".py",
      "mimetype": "text/x-python",
      "name": "python",
      "nbconvert_exporter": "python",
      "pygments_lexer": "ipython3",
      "version": "3.12.0"
    },
    "colab": {
      "provenance": []
    }
  },
  "nbformat": 4,
  "nbformat_minor": 0
}